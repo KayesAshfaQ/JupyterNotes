{
 "cells": [
  {
   "cell_type": "markdown",
   "id": "1bfdf0c4-295c-4657-86cc-428a26de8377",
   "metadata": {},
   "source": [
    "# First Notebook"
   ]
  },
  {
   "cell_type": "code",
   "execution_count": null,
   "id": "9a7d6ee4-8efb-45a1-bd05-dbcf337d863e",
   "metadata": {},
   "outputs": [],
   "source": [
    "print('Hello, world')"
   ]
  }
 ],
 "metadata": {
  "kernelspec": {
   "display_name": "Python 3 (ipykernel)",
   "language": "python",
   "name": "python3"
  },
  "language_info": {
   "codemirror_mode": {
    "name": "ipython",
    "version": 3
   },
   "file_extension": ".py",
   "mimetype": "text/x-python",
   "name": "python",
   "nbconvert_exporter": "python",
   "pygments_lexer": "ipython3",
   "version": "3.12.0"
  }
 },
 "nbformat": 4,
 "nbformat_minor": 5
}
